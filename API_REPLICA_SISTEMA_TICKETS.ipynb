{
  "cells": [
    {
      "cell_type": "markdown",
      "metadata": {
        "id": "view-in-github",
        "colab_type": "text"
      },
      "source": [
        "<a href=\"https://colab.research.google.com/github/MiMghtt/Classifica-Tickets-com-IA/blob/main/API_REPLICA_SISTEMA_TICKETS.ipynb\" target=\"_parent\"><img src=\"https://colab.research.google.com/assets/colab-badge.svg\" alt=\"Open In Colab\"/></a>"
      ]
    },
    {
      "cell_type": "code",
      "execution_count": null,
      "metadata": {
        "colab": {
          "base_uri": "https://localhost:8080/"
        },
        "collapsed": true,
        "id": "rj0JuP7YRYZ_",
        "outputId": "9ad33b09-b406-4cbf-a1c0-613101cf19fd"
      },
      "outputs": [
        {
          "name": "stdout",
          "output_type": "stream",
          "text": [
            "Requirement already satisfied: flask in /usr/local/lib/python3.10/dist-packages (3.0.3)\n",
            "Requirement already satisfied: Werkzeug>=3.0.0 in /usr/local/lib/python3.10/dist-packages (from flask) (3.1.3)\n",
            "Requirement already satisfied: Jinja2>=3.1.2 in /usr/local/lib/python3.10/dist-packages (from flask) (3.1.4)\n",
            "Requirement already satisfied: itsdangerous>=2.1.2 in /usr/local/lib/python3.10/dist-packages (from flask) (2.2.0)\n",
            "Requirement already satisfied: click>=8.1.3 in /usr/local/lib/python3.10/dist-packages (from flask) (8.1.7)\n",
            "Requirement already satisfied: blinker>=1.6.2 in /usr/local/lib/python3.10/dist-packages (from flask) (1.9.0)\n",
            "Requirement already satisfied: MarkupSafe>=2.0 in /usr/local/lib/python3.10/dist-packages (from Jinja2>=3.1.2->flask) (3.0.2)\n"
          ]
        }
      ],
      "source": [
        "!pip install flask"
      ]
    },
    {
      "cell_type": "code",
      "execution_count": null,
      "metadata": {
        "colab": {
          "base_uri": "https://localhost:8080/"
        },
        "collapsed": true,
        "id": "NtAn-YF_RaQ4",
        "outputId": "e702e494-8f3e-4445-a1e9-9d6dfac0e3f8"
      },
      "outputs": [
        {
          "name": "stdout",
          "output_type": "stream",
          "text": [
            "Collecting pyngrok\n",
            "  Downloading pyngrok-7.2.1-py3-none-any.whl.metadata (8.3 kB)\n",
            "Requirement already satisfied: PyYAML>=5.1 in /usr/local/lib/python3.10/dist-packages (from pyngrok) (6.0.2)\n",
            "Downloading pyngrok-7.2.1-py3-none-any.whl (22 kB)\n",
            "Installing collected packages: pyngrok\n",
            "Successfully installed pyngrok-7.2.1\n"
          ]
        }
      ],
      "source": [
        "!pip install pyngrok"
      ]
    },
    {
      "cell_type": "code",
      "execution_count": null,
      "metadata": {
        "colab": {
          "base_uri": "https://localhost:8080/"
        },
        "id": "2g5q_4Jegn5e",
        "outputId": "07c712fd-b7fb-40bd-8510-c701d8b7546c"
      },
      "outputs": [
        {
          "name": "stdout",
          "output_type": "stream",
          "text": [
            "Mounted at /content/drive\n",
            "Authtoken saved to configuration file: /root/.config/ngrok/ngrok.yml\n"
          ]
        }
      ],
      "source": [
        "from google.colab import drive\n",
        "drive.mount('/content/drive')\n",
        "\n",
        "with open('/content/drive/MyDrive/token_ngrok.txt', 'r') as file:\n",
        "    ngrok_token = file.read().strip()\n",
        "\n",
        "!ngrok authtoken {ngrok_token}\n"
      ]
    },
    {
      "cell_type": "code",
      "execution_count": null,
      "metadata": {
        "id": "dwDoMvF3RiHz"
      },
      "outputs": [],
      "source": [
        "from flask import Flask, request, jsonify\n",
        "from pyngrok import ngrok"
      ]
    },
    {
      "cell_type": "code",
      "execution_count": null,
      "metadata": {
        "id": "RVKXh6IBRpfA"
      },
      "outputs": [],
      "source": [
        "app = Flask(__name__)"
      ]
    },
    {
      "cell_type": "markdown",
      "metadata": {
        "id": "-7Wv8uUKfOgd"
      },
      "source": [
        "**Dados fictícios de tickets**"
      ]
    },
    {
      "cell_type": "code",
      "execution_count": null,
      "metadata": {
        "id": "CiFA0N2CY2L0"
      },
      "outputs": [],
      "source": [
        "tickets = [\n",
        "    {\n",
        "        \"id\": 1,\n",
        "        \"title\": \"Falha na integração com API de dados externos no ETL\",\n",
        "        \"description\": \"Durante a execução do processo ETL, o sistema não consegue fazer a chamada para a API externa para coletar dados de vendas.\",\n",
        "        \"comments\": [\"Erro 502 retornado pela API externa\", \"Verificar tempo de resposta da API e autenticação.\"],\n",
        "        \"root_cause\": \"API\",\n",
        "        \"functionality\": \"ETL\"\n",
        "    },\n",
        "    {\n",
        "        \"id\": 2,\n",
        "        \"title\": \"Dados não atualizam devido a falha na API do serviço de previsão de demanda\",\n",
        "        \"description\": \"A API responsável pela previsão de demanda não está retornando dados para o modelo de IA.\",\n",
        "        \"comments\": [\"API não está fornecendo dados de previsão desde ontem.\", \"Verificar se houve alteração no formato da resposta.\"],\n",
        "        \"root_cause\": \"API\",\n",
        "        \"functionality\": \"IA - Previsão de Demanda\"\n",
        "    },\n",
        "    {\n",
        "        \"id\": 3,\n",
        "        \"title\": \"Problema de integração com API de autenticação de usuários\",\n",
        "        \"description\": \"A API de autenticação de usuários falha na hora de integrar com o sistema de monitoramento de dados, resultando em dados incompletos no dashboard.\",\n",
        "        \"comments\": [\"API não responde com o status correto de autenticação.\", \"Verificar o endpoint de login.\"],\n",
        "        \"root_cause\": \"API\",\n",
        "        \"functionality\": \"Dashboard - Autenticação de Usuários\"\n",
        "    },\n",
        "    {\n",
        "        \"id\": 4,\n",
        "        \"title\": \"Falha na atualização de dados por chamada de API para o sistema de logística\",\n",
        "        \"description\": \"Durante o processo de ETL, não é possível atualizar os dados da API de logística devido a problemas de conexão.\",\n",
        "        \"comments\": [\"A API está retornando erro 503.\", \"Checar status da API externa.\"],\n",
        "        \"root_cause\": \"API\",\n",
        "        \"functionality\": \"ETL - Logística\"\n",
        "    },\n",
        "    {\n",
        "        \"id\": 5,\n",
        "        \"title\": \"Integração com a API de dados financeiros apresenta erro de conexão\",\n",
        "        \"description\": \"O processo de ETL não consegue integrar com a API de dados financeiros para atualização do banco de dados.\",\n",
        "        \"comments\": [\"Erro 500 da API.\", \"Verificar se o token de autenticação expirou.\"],\n",
        "        \"root_cause\": \"API\",\n",
        "        \"functionality\": \"ETL - Dados Financeiros\"\n",
        "    },\n",
        "\n",
        "    #causa raiz: Código Legado\n",
        "    {\n",
        "        \"id\": 6,\n",
        "        \"title\": \"Lógica de transformação de dados no ETL falha devido ao código legado\",\n",
        "        \"description\": \"O processo de transformação de dados falha devido ao uso de uma biblioteca desatualizada que não é mais compatível com as fontes de dados atuais.\",\n",
        "        \"comments\": [\"O código não consegue mais rodar a transformação corretamente.\", \"Precisamos atualizar as bibliotecas de processamento.\"],\n",
        "        \"root_cause\": \"Código legado\",\n",
        "        \"functionality\": \"ETL\"\n",
        "    },\n",
        "    {\n",
        "        \"id\": 7,\n",
        "        \"title\": \"Código legado no sistema de IA causa falha na modelagem de dados\",\n",
        "        \"description\": \"Um módulo antigo de IA não está processando os dados corretamente devido ao código legado que não foi atualizado.\",\n",
        "        \"comments\": [\"O código de pré-processamento de dados está desatualizado.\", \"Revisar a arquitetura da modelagem de IA.\"],\n",
        "        \"root_cause\": \"Código legado\",\n",
        "        \"functionality\": \"IA\"\n",
        "    },\n",
        "    {\n",
        "        \"id\": 8,\n",
        "        \"title\": \"Dashboard não está exibindo dados corretamente devido a código legado\",\n",
        "        \"description\": \"O painel de visualização de dados não está mais exibindo as informações corretamente devido a um código legado que não foi otimizado para novos dados.\",\n",
        "        \"comments\": [\"Os gráficos não estão carregando corretamente.\", \"O código não foi alterado desde o ano passado.\"],\n",
        "        \"root_cause\": \"Código legado\",\n",
        "        \"functionality\": \"Dashboard\"\n",
        "    },\n",
        "    {\n",
        "        \"id\": 9,\n",
        "        \"title\": \"Sistema de ETL falha devido a dependências antigas de pacotes\",\n",
        "        \"description\": \"O processo ETL falha porque uma versão desatualizada do pacote de manipulação de dados não é mais compatível com a nova versão do banco de dados.\",\n",
        "        \"comments\": [\"Atualizar as dependências para versões mais recentes.\", \"O código precisa ser refatorado.\"],\n",
        "        \"root_cause\": \"Código legado\",\n",
        "        \"functionality\": \"ETL\"\n",
        "    },\n",
        "    {\n",
        "        \"id\": 10,\n",
        "        \"title\": \"Falha no modelo de IA por problemas com código legado de predição\",\n",
        "        \"description\": \"O modelo de IA falha ao tentar realizar previsões, devido ao código legado que não foi adaptado para trabalhar com as novas entradas de dados.\",\n",
        "        \"comments\": [\"O modelo não está processando as variáveis corretamente.\", \"Precisamos refatorar o código da função de predição.\"],\n",
        "        \"root_cause\": \"Código legado\",\n",
        "        \"functionality\": \"IA\"\n",
        "    },\n",
        "\n",
        "    #causa raiz: Problemas de Desempenho\n",
        "    {\n",
        "        \"id\": 11,\n",
        "        \"title\": \"Processamento de dados lento no processo ETL devido a gargalos\",\n",
        "        \"description\": \"O processo ETL está extremamente lento devido a gargalos no módulo de transformação de dados.\",\n",
        "        \"comments\": [\"O tempo de execução do ETL aumentou drasticamente.\", \"Verificar índices e otimizar a consulta SQL.\"],\n",
        "        \"root_cause\": \"Problemas de desempenho\",\n",
        "        \"functionality\": \"ETL\"\n",
        "    },\n",
        "    {\n",
        "        \"id\": 12,\n",
        "        \"title\": \"Dashboard com lentidão ao carregar grandes volumes de dados\",\n",
        "        \"description\": \"O dashboard está demorando muito para carregar grandes volumes de dados provenientes do sistema de ETL.\",\n",
        "        \"comments\": [\"A página do dashboard não responde rapidamente.\", \"Verificar as queries que estão sendo feitas.\"],\n",
        "        \"root_cause\": \"Problemas de desempenho\",\n",
        "        \"functionality\": \"Dashboard\"\n",
        "    },\n",
        "    {\n",
        "        \"id\": 13,\n",
        "        \"title\": \"Atraso na previsão de demanda devido a lentidão no modelo de IA\",\n",
        "        \"description\": \"O modelo de IA está demorando mais tempo do que o esperado para gerar previsões devido a um problema de desempenho.\",\n",
        "        \"comments\": [\"O tempo de resposta do modelo aumentou em 30%.\", \"Precisamos de uma solução para otimizar o código do modelo.\"],\n",
        "        \"root_cause\": \"Problemas de desempenho\",\n",
        "        \"functionality\": \"IA - Previsão de Demanda\"\n",
        "    },\n",
        "    {\n",
        "        \"id\": 14,\n",
        "        \"title\": \"Problemas de desempenho no processo de integração de dados\",\n",
        "        \"description\": \"A integração de dados no processo ETL está demorada devido a problemas no tempo de resposta de algumas APIs externas.\",\n",
        "        \"comments\": [\"O processo de integração está demorando 3x mais do que o esperado.\", \"Rever o tempo de resposta das APIs externas.\"],\n",
        "        \"root_cause\": \"Problemas de desempenho\",\n",
        "        \"functionality\": \"ETL\"\n",
        "    },\n",
        "    {\n",
        "        \"id\": 15,\n",
        "        \"title\": \"Dashboard de análise de vendas lento ao carregar dados históricos\",\n",
        "        \"description\": \"O dashboard de análise de vendas está demorando para carregar dados históricos, especialmente os de mais de 6 meses atrás.\",\n",
        "        \"comments\": [\"O tempo de carga é muito alto quando acessamos dados históricos.\", \"Verificar se há algum problema de indexação no banco de dados.\"],\n",
        "        \"root_cause\": \"Problemas de desempenho\",\n",
        "        \"functionality\": \"Dashboard\"\n",
        "    },\n",
        "\n",
        "    #causa raiz: Erro de Lógica\n",
        "    {\n",
        "        \"id\": 16,\n",
        "        \"title\": \"Erro de lógica no algoritmo de agregação de dados no ETL\",\n",
        "        \"description\": \"O algoritmo de agregação de dados falha ao processar informações do banco de dados, gerando resultados incorretos no processo ETL.\",\n",
        "        \"comments\": [\"Os dados agregados não estão somando corretamente.\", \"Revisar a função de agregação no código do ETL.\"],\n",
        "        \"root_cause\": \"Erro de lógica\",\n",
        "        \"functionality\": \"ETL\"\n",
        "    },\n",
        "    {\n",
        "        \"id\": 17,\n",
        "        \"title\": \"Falha no algoritmo de previsão de demanda devido a erro de lógica\",\n",
        "        \"description\": \"O modelo de IA para previsão de demanda está gerando previsões incorretas devido a um erro lógico no cálculo das variáveis.\",\n",
        "        \"comments\": [\"As previsões estão muito acima da média.\", \"Revisar o cálculo da demanda.\"],\n",
        "        \"root_cause\": \"Erro de lógica\",\n",
        "        \"functionality\": \"IA - Previsão de Demanda\"\n",
        "    },\n",
        "    {\n",
        "        \"id\": 18,\n",
        "        \"title\": \"Erro de lógica na filtragem de dados para o dashboard de vendas\",\n",
        "        \"description\": \"O dashboard de vendas não está filtrando corretamente os dados, mostrando registros errados por causa de um erro na lógica de filtragem.\",\n",
        "        \"comments\": [\"Os dados filtrados não estão correspondendo ao período selecionado.\", \"Revisar a lógica de filtragem no backend.\"],\n",
        "        \"root_cause\": \"Erro de lógica\",\n",
        "        \"functionality\": \"Dashboard\"\n",
        "    },\n",
        "    {\n",
        "        \"id\": 19,\n",
        "        \"title\": \"Lógica de transformação de dados no ETL está incorreta\",\n",
        "        \"description\": \"O processo ETL está aplicando uma transformação incorreta nos dados financeiros, afetando as informações no banco de dados.\",\n",
        "        \"comments\": [\"A transformação não está aplicando a fórmula corretamente.\", \"Verificar a lógica de transformação.\"],\n",
        "        \"root_cause\": \"Erro de lógica\",\n",
        "        \"functionality\": \"ETL\"\n",
        "    },\n",
        "    {\n",
        "        \"id\": 20,\n",
        "        \"title\": \"Erro de lógica no cálculo da métrica de performance no modelo de IA\",\n",
        "        \"description\": \"O modelo de IA está calculando incorretamente a métrica de performance de uma campanha devido a um erro lógico.\",\n",
        "        \"comments\": [\"O valor calculado não corresponde ao esperado.\", \"Revisar a fórmula usada para calcular a performance.\"],\n",
        "        \"root_cause\": \"Erro de lógica\",\n",
        "        \"functionality\": \"IA\"\n",
        "    }\n",
        "]\n"
      ]
    },
    {
      "cell_type": "code",
      "execution_count": null,
      "metadata": {
        "id": "L3Y1u0k-bgsi"
      },
      "outputs": [],
      "source": [
        "tickets.extend([\n",
        "    {\n",
        "        \"id\": 21,\n",
        "        \"title\": \"Erro na exibição de gráficos no Dashboard de Vendas\",\n",
        "        \"description\": \"Os gráficos de vendas não estão sendo renderizados corretamente no dashboard devido a problemas de formatação na interface.\",\n",
        "        \"comments\": [\"Os gráficos de barras estão sobrepondo os rótulos.\", \"Verificar a lógica de renderização dos gráficos.\"],\n",
        "        \"root_cause\": \"Erro de UI\",\n",
        "        \"functionality\": \"Dashboard - Vendas\"\n",
        "    },\n",
        "    {\n",
        "        \"id\": 22,\n",
        "        \"title\": \"Botão de filtro não está funcionando no Dashboard de Performance\",\n",
        "        \"description\": \"O botão de filtro do dashboard de performance não está alterando os dados exibidos ao ser pressionado.\",\n",
        "        \"comments\": [\"O filtro de data não está aplicando a mudança de intervalo.\", \"Revisar o código do evento de click no botão de filtro.\"],\n",
        "        \"root_cause\": \"Erro de UI\",\n",
        "        \"functionality\": \"Dashboard - Performance\"\n",
        "    },\n",
        "    {\n",
        "        \"id\": 23,\n",
        "        \"title\": \"Inconsistência na exibição de números no Dashboard de Análise de Dados\",\n",
        "        \"description\": \"Os números exibidos no dashboard de análise de dados estão sendo arredondados incorretamente, causando confusão nos usuários.\",\n",
        "        \"comments\": [\"Os valores exibidos estão arredondando para dois decimais.\", \"Revisar a lógica de exibição de números no frontend.\"],\n",
        "        \"root_cause\": \"Erro de UI\",\n",
        "        \"functionality\": \"Dashboard - Análise de Dados\"\n",
        "    },\n",
        "    {\n",
        "        \"id\": 24,\n",
        "        \"title\": \"Formulário de login não está exibindo mensagens de erro corretamente\",\n",
        "        \"description\": \"Quando um usuário insere credenciais incorretas, o formulário de login não exibe a mensagem de erro correta na interface.\",\n",
        "        \"comments\": [\"Mensagem de erro não aparece quando a senha está errada.\", \"Verificar a lógica de exibição de mensagens no formulário.\"],\n",
        "        \"root_cause\": \"Erro de UI\",\n",
        "        \"functionality\": \"Dashboard - Login\"\n",
        "    },\n",
        "    {\n",
        "        \"id\": 25,\n",
        "        \"title\": \"Layout quebrado no Dashboard de KPIs em dispositivos móveis\",\n",
        "        \"description\": \"No dashboard de KPIs, o layout fica quebrado em dispositivos móveis, com gráficos e tabelas sobrepondo-se uns aos outros.\",\n",
        "        \"comments\": [\"Gráficos e tabelas estão fora de posição em telas pequenas.\", \"Ajustar o layout responsivo do dashboard.\"],\n",
        "        \"root_cause\": \"Erro de UI\",\n",
        "        \"functionality\": \"Dashboard - KPIs\"\n",
        "    }\n",
        "])\n"
      ]
    },
    {
      "cell_type": "code",
      "execution_count": null,
      "metadata": {
        "id": "XvSO4T0Sb4fY"
      },
      "outputs": [],
      "source": [
        "tickets.extend([\n",
        "    {\n",
        "        \"id\": 26,\n",
        "        \"title\": \"Erro de cálculo não detectado em testes no modelo de IA\",\n",
        "        \"description\": \"Durante a liberação do modelo de IA, um erro no cálculo das métricas de previsão não foi detectado nos testes, gerando resultados imprecisos.\",\n",
        "        \"comments\": [\"O modelo gerou previsões com valores absurdos.\", \"Revisar os testes de validação do modelo antes da liberação.\"],\n",
        "        \"root_cause\": \"Falha em testes\",\n",
        "        \"functionality\": \"IA - Previsão de Demanda\"\n",
        "    },\n",
        "    {\n",
        "        \"id\": 27,\n",
        "        \"title\": \"Dashboard de vendas com falhas não detectadas em testes de UI\",\n",
        "        \"description\": \"O dashboard de vendas contém falhas na interface de usuário que não foram identificadas nos testes antes da liberação, como campos mal posicionados.\",\n",
        "        \"comments\": [\"O campo de 'vendas totais' está fora de alinhamento no canto inferior direito.\", \"A UI não foi suficientemente testada em todos os dispositivos.\"],\n",
        "        \"root_cause\": \"Falha em testes\",\n",
        "        \"functionality\": \"Dashboard - Vendas\"\n",
        "    },\n",
        "    {\n",
        "        \"id\": 28,\n",
        "        \"title\": \"Erro na importação de dados no ETL não identificado durante os testes\",\n",
        "        \"description\": \"O processo de importação de dados falhou devido a uma incompatibilidade de formato que não foi detectada nos testes de integração.\",\n",
        "        \"comments\": [\"O formato de data dos arquivos CSV está incorreto.\", \"A falha de integração não foi simulada nos testes de carga.\"],\n",
        "        \"root_cause\": \"Falha em testes\",\n",
        "        \"functionality\": \"ETL - Importação de Dados\"\n",
        "    },\n",
        "    {\n",
        "        \"id\": 29,\n",
        "        \"title\": \"Testes não cobriram cenário de erro no processo de transformação de dados\",\n",
        "        \"description\": \"Durante os testes, o processo de transformação de dados não cobriu todos os cenários de erro, resultando em dados incorretos no ambiente de produção.\",\n",
        "        \"comments\": [\"Cenário de erro envolvendo valores nulos não foi testado.\", \"Revisar os casos de teste para garantir cobertura total.\"],\n",
        "        \"root_cause\": \"Falha em testes\",\n",
        "        \"functionality\": \"ETL - Transformação de Dados\"\n",
        "    },\n",
        "    {\n",
        "        \"id\": 30,\n",
        "        \"title\": \"Testes de carga não simulam volume de dados real, causando lentidão no dashboard\",\n",
        "        \"description\": \"Os testes de carga do dashboard de KPIs não simularam corretamente o volume de dados esperado, o que resultou em lentidão no desempenho após a liberação.\",\n",
        "        \"comments\": [\"Os testes de carga não simularam um grande número de usuários acessando ao mesmo tempo.\", \"Verificar a escalabilidade e otimização do sistema.\"],\n",
        "        \"root_cause\": \"Falha em testes\",\n",
        "        \"functionality\": \"Dashboard - KPIs\"\n",
        "    }\n",
        "])\n"
      ]
    },
    {
      "cell_type": "code",
      "execution_count": null,
      "metadata": {
        "id": "CjRaNs0TbP69"
      },
      "outputs": [],
      "source": [
        "root_causes = [\n",
        "    \"API\",\n",
        "    \"Codigo legado\",\n",
        "    \"Problemas de desempenho\",\n",
        "    \"Erro de lógica\",\n",
        "    \"Erro UI\",\n",
        "    \"Falha teste\"\n",
        "]"
      ]
    },
    {
      "cell_type": "code",
      "execution_count": null,
      "metadata": {
        "id": "T3R74gYBcPP-"
      },
      "outputs": [],
      "source": [
        "@app.route('/tickets', methods=['GET'])\n",
        "def get_tickets():\n",
        "    return jsonify(tickets), 200"
      ]
    },
    {
      "cell_type": "code",
      "execution_count": null,
      "metadata": {
        "id": "RK9Wmz0FcW3z"
      },
      "outputs": [],
      "source": [
        "@app.route('/tickets', methods=['POST'])\n",
        "def create_ticket():\n",
        "    new_ticket = request.get_json()\n",
        "\n",
        "    if new_ticket.get(\"root_cause\") not in root_causes:\n",
        "        return jsonify({\"error\": f\"Causa raiz inválida. Opções: {' ,'.join(root_causes)}\"}), 400\n",
        "\n",
        "    new_ticket[\"id\"] = len(tickets) + 1\n",
        "    tickets.append(new_ticket)\n",
        "\n",
        "    return jsonify(new_ticket), 201"
      ]
    },
    {
      "cell_type": "code",
      "execution_count": null,
      "metadata": {
        "id": "bpkPcoOMdHoU"
      },
      "outputs": [],
      "source": [
        "@app.route('/tickets/<int:id>', methods=['GET'])\n",
        "def get_ticket(id):\n",
        "    ticket = next((t for t in tickets if t[\"id\"] == id), None)\n",
        "    if ticket:\n",
        "        return jsonify(ticket), 200\n",
        "    else:\n",
        "        return jsonify({\"message\": \"Ticket não encontrado\"}), 404"
      ]
    },
    {
      "cell_type": "code",
      "execution_count": null,
      "metadata": {
        "id": "86TvSOJpdfUY"
      },
      "outputs": [],
      "source": [
        "@app.route('/tickets/<int:id>', methods=['PUT'])\n",
        "def update_ticket(id):\n",
        "    ticket = next((t for t in tickets if t[\"id\"] == id), None)\n",
        "\n",
        "    if ticket:\n",
        "      data = request.get_json()\n",
        "\n",
        "      if data.get('root_cause') and data[\"root_cause\"] not in root_causes:\n",
        "          return jsonify({\"error\": f\"Causa raiz inválida. Opções: {' ,'.join(root_causes)}\"}), 400\n",
        "\n",
        "      ticket.update(data)\n",
        "      return jsonify(ticket), 200\n",
        "\n",
        "    else:\n",
        "        return jsonify({\"message\": \"Ticket não encontrado\"}), 404\n"
      ]
    },
    {
      "cell_type": "code",
      "execution_count": null,
      "metadata": {
        "colab": {
          "background_save": true,
          "base_uri": "https://localhost:8080/"
        },
        "id": "f21IyB_ye1qo",
        "outputId": "3d4765e4-315b-44a2-ed32-cc56aee86d58"
      },
      "outputs": [
        {
          "name": "stdout",
          "output_type": "stream",
          "text": [
            "Public URL: NgrokTunnel: \"https://764c-34-85-251-3.ngrok-free.app\" -> \"http://localhost:5000\"\n",
            " * Serving Flask app '__main__'\n",
            " * Debug mode: off\n"
          ]
        },
        {
          "name": "stderr",
          "output_type": "stream",
          "text": [
            "INFO:werkzeug:\u001b[31m\u001b[1mWARNING: This is a development server. Do not use it in a production deployment. Use a production WSGI server instead.\u001b[0m\n",
            " * Running on http://127.0.0.1:5000\n",
            "INFO:werkzeug:\u001b[33mPress CTRL+C to quit\u001b[0m\n"
          ]
        }
      ],
      "source": [
        "if __name__ == '__main__':\n",
        "    public_url = ngrok.connect(5000)\n",
        "    print(\"Public URL:\", public_url)\n",
        "    app.run(port=5000)"
      ]
    }
  ],
  "metadata": {
    "colab": {
      "provenance": [],
      "authorship_tag": "ABX9TyOs7uLusgGKUiMXa2uIemWp",
      "include_colab_link": true
    },
    "kernelspec": {
      "display_name": "Python 3",
      "name": "python3"
    },
    "language_info": {
      "name": "python"
    }
  },
  "nbformat": 4,
  "nbformat_minor": 0
}