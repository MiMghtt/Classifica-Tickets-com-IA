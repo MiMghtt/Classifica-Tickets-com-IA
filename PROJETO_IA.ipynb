{
  "nbformat": 4,
  "nbformat_minor": 0,
  "metadata": {
    "colab": {
      "provenance": [],
      "authorship_tag": "ABX9TyP5RgVPenVCoUxXnYh0oxdu",
      "include_colab_link": true
    },
    "kernelspec": {
      "name": "python3",
      "display_name": "Python 3"
    },
    "language_info": {
      "name": "python"
    }
  },
  "cells": [
    {
      "cell_type": "markdown",
      "metadata": {
        "id": "view-in-github",
        "colab_type": "text"
      },
      "source": [
        "<a href=\"https://colab.research.google.com/github/MiMghtt/Classifica-Tickets-com-IA/blob/main/PROJETO_IA.ipynb\" target=\"_parent\"><img src=\"https://colab.research.google.com/assets/colab-badge.svg\" alt=\"Open In Colab\"/></a>"
      ]
    },
    {
      "cell_type": "code",
      "source": [
        "!pip install requests"
      ],
      "metadata": {
        "colab": {
          "base_uri": "https://localhost:8080/"
        },
        "collapsed": true,
        "id": "MAIOCTUOrTVM",
        "outputId": "fd3f7a27-4aae-433a-b03d-2e3356ab6c2d"
      },
      "execution_count": null,
      "outputs": [
        {
          "output_type": "stream",
          "name": "stdout",
          "text": [
            "Requirement already satisfied: requests in /usr/local/lib/python3.10/dist-packages (2.32.3)\n",
            "Requirement already satisfied: charset-normalizer<4,>=2 in /usr/local/lib/python3.10/dist-packages (from requests) (3.4.0)\n",
            "Requirement already satisfied: idna<4,>=2.5 in /usr/local/lib/python3.10/dist-packages (from requests) (3.10)\n",
            "Requirement already satisfied: urllib3<3,>=1.21.1 in /usr/local/lib/python3.10/dist-packages (from requests) (2.2.3)\n",
            "Requirement already satisfied: certifi>=2017.4.17 in /usr/local/lib/python3.10/dist-packages (from requests) (2024.8.30)\n"
          ]
        }
      ]
    },
    {
      "cell_type": "markdown",
      "source": [
        "Aqui estou fazendo a requisição dos dados de tickets da api falsa do jira"
      ],
      "metadata": {
        "id": "bYDlQvlwrl10"
      }
    },
    {
      "cell_type": "code",
      "source": [
        "import requests\n",
        "\n",
        "url = 'https://535b-34-16-193-40.ngrok-free.app/tickets'\n",
        "\n",
        "response = requests.get(url)\n",
        "\n",
        "if response.status_code == 200:\n",
        "    tickets = response.json()\n",
        "    for ticket in tickets:\n",
        "        print(ticket)\n",
        "else:\n",
        "    print(f\"Erro na solicitação. Código de status: {response.status_code}\")"
      ],
      "metadata": {
        "colab": {
          "base_uri": "https://localhost:8080/"
        },
        "id": "E8eZCR_trUw9",
        "outputId": "0ef2abb3-ec84-4742-ffc8-d14c6130cbcf"
      },
      "execution_count": null,
      "outputs": [
        {
          "output_type": "stream",
          "name": "stdout",
          "text": [
            "{'comments': ['Erro 502 retornado pela API externa', 'Verificar tempo de resposta da API e autenticação.'], 'description': 'Durante a execução do processo ETL, o sistema não consegue fazer a chamada para a API externa para coletar dados de vendas.', 'functionality': 'ETL', 'id': 1, 'root_cause': 'API', 'title': 'Falha na integração com API de dados externos no ETL'}\n",
            "{'comments': ['API não está fornecendo dados de previsão desde ontem.', 'Verificar se houve alteração no formato da resposta.'], 'description': 'A API responsável pela previsão de demanda não está retornando dados para o modelo de IA.', 'functionality': 'IA - Previsão de Demanda', 'id': 2, 'root_cause': 'API', 'title': 'Dados não atualizam devido a falha na API do serviço de previsão de demanda'}\n",
            "{'comments': ['API não responde com o status correto de autenticação.', 'Verificar o endpoint de login.'], 'description': 'A API de autenticação de usuários falha na hora de integrar com o sistema de monitoramento de dados, resultando em dados incompletos no dashboard.', 'functionality': 'Dashboard - Autenticação de Usuários', 'id': 3, 'root_cause': 'API', 'title': 'Problema de integração com API de autenticação de usuários'}\n",
            "{'comments': ['A API está retornando erro 503.', 'Checar status da API externa.'], 'description': 'Durante o processo de ETL, não é possível atualizar os dados da API de logística devido a problemas de conexão.', 'functionality': 'ETL - Logística', 'id': 4, 'root_cause': 'API', 'title': 'Falha na atualização de dados por chamada de API para o sistema de logística'}\n",
            "{'comments': ['Erro 500 da API.', 'Verificar se o token de autenticação expirou.'], 'description': 'O processo de ETL não consegue integrar com a API de dados financeiros para atualização do banco de dados.', 'functionality': 'ETL - Dados Financeiros', 'id': 5, 'root_cause': 'API', 'title': 'Integração com a API de dados financeiros apresenta erro de conexão'}\n",
            "{'comments': ['O código não consegue mais rodar a transformação corretamente.', 'Precisamos atualizar as bibliotecas de processamento.'], 'description': 'O processo de transformação de dados falha devido ao uso de uma biblioteca desatualizada que não é mais compatível com as fontes de dados atuais.', 'functionality': 'ETL', 'id': 6, 'root_cause': 'Código legado', 'title': 'Lógica de transformação de dados no ETL falha devido ao código legado'}\n",
            "{'comments': ['O código de pré-processamento de dados está desatualizado.', 'Revisar a arquitetura da modelagem de IA.'], 'description': 'Um módulo antigo de IA não está processando os dados corretamente devido ao código legado que não foi atualizado.', 'functionality': 'IA', 'id': 7, 'root_cause': 'Código legado', 'title': 'Código legado no sistema de IA causa falha na modelagem de dados'}\n",
            "{'comments': ['Os gráficos não estão carregando corretamente.', 'O código não foi alterado desde o ano passado.'], 'description': 'O painel de visualização de dados não está mais exibindo as informações corretamente devido a um código legado que não foi otimizado para novos dados.', 'functionality': 'Dashboard', 'id': 8, 'root_cause': 'Código legado', 'title': 'Dashboard não está exibindo dados corretamente devido a código legado'}\n",
            "{'comments': ['Atualizar as dependências para versões mais recentes.', 'O código precisa ser refatorado.'], 'description': 'O processo ETL falha porque uma versão desatualizada do pacote de manipulação de dados não é mais compatível com a nova versão do banco de dados.', 'functionality': 'ETL', 'id': 9, 'root_cause': 'Código legado', 'title': 'Sistema de ETL falha devido a dependências antigas de pacotes'}\n",
            "{'comments': ['O modelo não está processando as variáveis corretamente.', 'Precisamos refatorar o código da função de predição.'], 'description': 'O modelo de IA falha ao tentar realizar previsões, devido ao código legado que não foi adaptado para trabalhar com as novas entradas de dados.', 'functionality': 'IA', 'id': 10, 'root_cause': 'Código legado', 'title': 'Falha no modelo de IA por problemas com código legado de predição'}\n",
            "{'comments': ['O tempo de execução do ETL aumentou drasticamente.', 'Verificar índices e otimizar a consulta SQL.'], 'description': 'O processo ETL está extremamente lento devido a gargalos no módulo de transformação de dados.', 'functionality': 'ETL', 'id': 11, 'root_cause': 'Problemas de desempenho', 'title': 'Processamento de dados lento no processo ETL devido a gargalos'}\n",
            "{'comments': ['A página do dashboard não responde rapidamente.', 'Verificar as queries que estão sendo feitas.'], 'description': 'O dashboard está demorando muito para carregar grandes volumes de dados provenientes do sistema de ETL.', 'functionality': 'Dashboard', 'id': 12, 'root_cause': 'Problemas de desempenho', 'title': 'Dashboard com lentidão ao carregar grandes volumes de dados'}\n",
            "{'comments': ['O tempo de resposta do modelo aumentou em 30%.', 'Precisamos de uma solução para otimizar o código do modelo.'], 'description': 'O modelo de IA está demorando mais tempo do que o esperado para gerar previsões devido a um problema de desempenho.', 'functionality': 'IA - Previsão de Demanda', 'id': 13, 'root_cause': 'Problemas de desempenho', 'title': 'Atraso na previsão de demanda devido a lentidão no modelo de IA'}\n",
            "{'comments': ['O processo de integração está demorando 3x mais do que o esperado.', 'Rever o tempo de resposta das APIs externas.'], 'description': 'A integração de dados no processo ETL está demorada devido a problemas no tempo de resposta de algumas APIs externas.', 'functionality': 'ETL', 'id': 14, 'root_cause': 'Problemas de desempenho', 'title': 'Problemas de desempenho no processo de integração de dados'}\n",
            "{'comments': ['O tempo de carga é muito alto quando acessamos dados históricos.', 'Verificar se há algum problema de indexação no banco de dados.'], 'description': 'O dashboard de análise de vendas está demorando para carregar dados históricos, especialmente os de mais de 6 meses atrás.', 'functionality': 'Dashboard', 'id': 15, 'root_cause': 'Problemas de desempenho', 'title': 'Dashboard de análise de vendas lento ao carregar dados históricos'}\n",
            "{'comments': ['Os dados agregados não estão somando corretamente.', 'Revisar a função de agregação no código do ETL.'], 'description': 'O algoritmo de agregação de dados falha ao processar informações do banco de dados, gerando resultados incorretos no processo ETL.', 'functionality': 'ETL', 'id': 16, 'root_cause': 'Erro de lógica', 'title': 'Erro de lógica no algoritmo de agregação de dados no ETL'}\n",
            "{'comments': ['As previsões estão muito acima da média.', 'Revisar o cálculo da demanda.'], 'description': 'O modelo de IA para previsão de demanda está gerando previsões incorretas devido a um erro lógico no cálculo das variáveis.', 'functionality': 'IA - Previsão de Demanda', 'id': 17, 'root_cause': 'Erro de lógica', 'title': 'Falha no algoritmo de previsão de demanda devido a erro de lógica'}\n",
            "{'comments': ['Os dados filtrados não estão correspondendo ao período selecionado.', 'Revisar a lógica de filtragem no backend.'], 'description': 'O dashboard de vendas não está filtrando corretamente os dados, mostrando registros errados por causa de um erro na lógica de filtragem.', 'functionality': 'Dashboard', 'id': 18, 'root_cause': 'Erro de lógica', 'title': 'Erro de lógica na filtragem de dados para o dashboard de vendas'}\n",
            "{'comments': ['A transformação não está aplicando a fórmula corretamente.', 'Verificar a lógica de transformação.'], 'description': 'O processo ETL está aplicando uma transformação incorreta nos dados financeiros, afetando as informações no banco de dados.', 'functionality': 'ETL', 'id': 19, 'root_cause': 'Erro de lógica', 'title': 'Lógica de transformação de dados no ETL está incorreta'}\n",
            "{'comments': ['O valor calculado não corresponde ao esperado.', 'Revisar a fórmula usada para calcular a performance.'], 'description': 'O modelo de IA está calculando incorretamente a métrica de performance de uma campanha devido a um erro lógico.', 'functionality': 'IA', 'id': 20, 'root_cause': 'Erro de lógica', 'title': 'Erro de lógica no cálculo da métrica de performance no modelo de IA'}\n",
            "{'comments': ['Os gráficos de barras estão sobrepondo os rótulos.', 'Verificar a lógica de renderização dos gráficos.'], 'description': 'Os gráficos de vendas não estão sendo renderizados corretamente no dashboard devido a problemas de formatação na interface.', 'functionality': 'Dashboard - Vendas', 'id': 21, 'root_cause': 'Erro de UI', 'title': 'Erro na exibição de gráficos no Dashboard de Vendas'}\n",
            "{'comments': ['O filtro de data não está aplicando a mudança de intervalo.', 'Revisar o código do evento de click no botão de filtro.'], 'description': 'O botão de filtro do dashboard de performance não está alterando os dados exibidos ao ser pressionado.', 'functionality': 'Dashboard - Performance', 'id': 22, 'root_cause': 'Erro de UI', 'title': 'Botão de filtro não está funcionando no Dashboard de Performance'}\n",
            "{'comments': ['Os valores exibidos estão arredondando para dois decimais.', 'Revisar a lógica de exibição de números no frontend.'], 'description': 'Os números exibidos no dashboard de análise de dados estão sendo arredondados incorretamente, causando confusão nos usuários.', 'functionality': 'Dashboard - Análise de Dados', 'id': 23, 'root_cause': 'Erro de UI', 'title': 'Inconsistência na exibição de números no Dashboard de Análise de Dados'}\n",
            "{'comments': ['Mensagem de erro não aparece quando a senha está errada.', 'Verificar a lógica de exibição de mensagens no formulário.'], 'description': 'Quando um usuário insere credenciais incorretas, o formulário de login não exibe a mensagem de erro correta na interface.', 'functionality': 'Dashboard - Login', 'id': 24, 'root_cause': 'Erro de UI', 'title': 'Formulário de login não está exibindo mensagens de erro corretamente'}\n",
            "{'comments': ['Gráficos e tabelas estão fora de posição em telas pequenas.', 'Ajustar o layout responsivo do dashboard.'], 'description': 'No dashboard de KPIs, o layout fica quebrado em dispositivos móveis, com gráficos e tabelas sobrepondo-se uns aos outros.', 'functionality': 'Dashboard - KPIs', 'id': 25, 'root_cause': 'Erro de UI', 'title': 'Layout quebrado no Dashboard de KPIs em dispositivos móveis'}\n",
            "{'comments': ['O modelo gerou previsões com valores absurdos.', 'Revisar os testes de validação do modelo antes da liberação.'], 'description': 'Durante a liberação do modelo de IA, um erro no cálculo das métricas de previsão não foi detectado nos testes, gerando resultados imprecisos.', 'functionality': 'IA - Previsão de Demanda', 'id': 26, 'root_cause': 'Falha em testes', 'title': 'Erro de cálculo não detectado em testes no modelo de IA'}\n",
            "{'comments': [\"O campo de 'vendas totais' está fora de alinhamento no canto inferior direito.\", 'A UI não foi suficientemente testada em todos os dispositivos.'], 'description': 'O dashboard de vendas contém falhas na interface de usuário que não foram identificadas nos testes antes da liberação, como campos mal posicionados.', 'functionality': 'Dashboard - Vendas', 'id': 27, 'root_cause': 'Falha em testes', 'title': 'Dashboard de vendas com falhas não detectadas em testes de UI'}\n",
            "{'comments': ['O formato de data dos arquivos CSV está incorreto.', 'A falha de integração não foi simulada nos testes de carga.'], 'description': 'O processo de importação de dados falhou devido a uma incompatibilidade de formato que não foi detectada nos testes de integração.', 'functionality': 'ETL - Importação de Dados', 'id': 28, 'root_cause': 'Falha em testes', 'title': 'Erro na importação de dados no ETL não identificado durante os testes'}\n",
            "{'comments': ['Cenário de erro envolvendo valores nulos não foi testado.', 'Revisar os casos de teste para garantir cobertura total.'], 'description': 'Durante os testes, o processo de transformação de dados não cobriu todos os cenários de erro, resultando em dados incorretos no ambiente de produção.', 'functionality': 'ETL - Transformação de Dados', 'id': 29, 'root_cause': 'Falha em testes', 'title': 'Testes não cobriram cenário de erro no processo de transformação de dados'}\n",
            "{'comments': ['Os testes de carga não simularam um grande número de usuários acessando ao mesmo tempo.', 'Verificar a escalabilidade e otimização do sistema.'], 'description': 'Os testes de carga do dashboard de KPIs não simularam corretamente o volume de dados esperado, o que resultou em lentidão no desempenho após a liberação.', 'functionality': 'Dashboard - KPIs', 'id': 30, 'root_cause': 'Falha em testes', 'title': 'Testes de carga não simulam volume de dados real, causando lentidão no dashboard'}\n"
          ]
        }
      ]
    },
    {
      "cell_type": "markdown",
      "source": [
        "1. nltk (Natural Language Toolkit)\n",
        "O NLTK é uma das bibliotecas mais populares para trabalhar com Processamento de Linguagem Natural (NLP). Ela fornece ferramentas para trabalhar com texto, como:\n",
        "\n",
        "- Tokenização: dividir um texto em palavras ou frases (tokens).\n",
        "- Remoção de stopwords: palavras comuns que são removidas para evitar interferir nas análises.\n",
        "- Lematização e Stemming: reduzir palavras a suas formas base (ex: \"correndo\" -> \"correr\").\n",
        "- Tagging de partes do discurso: identificar se uma palavra é um substantivo, verbo, adjetivo, etc."
      ],
      "metadata": {
        "id": "g5swMNp3p3pE"
      }
    },
    {
      "cell_type": "code",
      "execution_count": null,
      "metadata": {
        "id": "z10YwOYxlMkW",
        "colab": {
          "base_uri": "https://localhost:8080/"
        },
        "outputId": "097481a5-87ec-4056-8482-aa50a82d5819"
      },
      "outputs": [
        {
          "output_type": "stream",
          "name": "stdout",
          "text": [
            "falha integrao api dado externos etl\n",
            "dado atualizam devido falha api servio previsão demanda\n",
            "problema integrao api autenticação usuários\n",
            "falha atualizao dado chamada api sistema logística\n",
            "integrao api dado financeiros apresenta erro conexão\n",
            "lgica transformaão dado etl falha devido código legado\n",
            "cdigo legado sistema ia causa falha modelagem dado\n",
            "dashboard est exibindo dado corretamente devido código legado\n",
            "sistema etl falha devido dependncias antigas pacotes\n",
            "falha modelo ia problemas cdigo legado predião\n",
            "processamento dado lento processo etl devido gargalos\n",
            "dashboard lentido carregar grandes volume dado\n",
            "atraso previso demanda devido lentido modelo ia\n",
            "problemas desempenho processo integrao dado\n",
            "dashboard anlise vendas lento carregar dado histricos\n",
            "erro lgica algoritmo agregaão dado etl\n",
            "falha algoritmo previso demanda devido erro lgica\n",
            "erro lgica filtragem dado dashboard vendas\n",
            "lgica transformaão dado etl incorreta\n",
            "erro lgica clculo métrica performance modelo ia\n",
            "erro exibio gráficos dashboard vendas\n",
            "boto filtro funcionando dashboard performance\n",
            "inconsistncia exibião números dashboard análise dado\n",
            "formulrio login exibindo mensagens erro corretamente\n",
            "layout quebrado dashboard kpis dispositivos mveis\n",
            "erro clculo detectado testis modelo ia\n",
            "dashboard vendas falhas detectadas testis ui\n",
            "erro importao dado etl identificado durante testis\n",
            "testis cobriram cenrio erro processo transformação dado\n",
            "testis carga simulam volume dado real causando lentidão dashboard\n"
          ]
        },
        {
          "output_type": "stream",
          "name": "stderr",
          "text": [
            "[nltk_data] Downloading package punkt to /root/nltk_data...\n",
            "[nltk_data]   Package punkt is already up-to-date!\n",
            "[nltk_data] Downloading package stopwords to /root/nltk_data...\n",
            "[nltk_data]   Package stopwords is already up-to-date!\n",
            "[nltk_data] Downloading package wordnet to /root/nltk_data...\n",
            "[nltk_data]   Package wordnet is already up-to-date!\n"
          ]
        }
      ],
      "source": [
        "import re\n",
        "import nltk\n",
        "from nltk.corpus import stopwords\n",
        "from nltk.tokenize import word_tokenize\n",
        "from nltk.stem import WordNetLemmatizer\n",
        "\n",
        "\n",
        "nltk.download('punkt')\n",
        "nltk.download('stopwords')\n",
        "nltk.download('wordnet')\n",
        "\n",
        "#função de limpeza de texto\n",
        "def clean_text(text):\n",
        "    #remover caracteres não alfabéticos (apenas letras)\n",
        "    text = re.sub(r'[^a-zA-Z\\s]', '', text, re.I)\n",
        "    #converter para minúsculas\n",
        "    text = text.lower()\n",
        "    #tokenização\n",
        "    tokens = word_tokenize(text)\n",
        "    #remover stopwords\n",
        "    stop_words = set(stopwords.words('portuguese'))\n",
        "    tokens = [word for word in tokens if word not in stop_words]\n",
        "    #lemmatização (converter as palavras para a forma base)\n",
        "    lemmatizer = WordNetLemmatizer()\n",
        "    tokens = [lemmatizer.lemmatize(word) for word in tokens]\n",
        "\n",
        "    return \" \".join(tokens)\n",
        "\n",
        "cleaned_tickets = []\n",
        "for ticket in tickets:\n",
        "    cleaned_title = clean_text(ticket['title'])\n",
        "    ticket['cleaned_title'] = cleaned_title\n",
        "    cleaned_tickets.append(ticket)\n",
        "\n",
        "for ticket in cleaned_tickets:\n",
        "    print(ticket['cleaned_title'])\n"
      ]
    },
    {
      "cell_type": "markdown",
      "source": [
        "O TfidfVectorizer converte texto em uma representação numérica usando a técnica Term Frequency-Inverse Document Frequency (TF-IDF). Essa técnica calcula a importância de uma palavra em um conjunto de documentos, equilibrando sua frequência com a frequência nos documentos.\n"
      ],
      "metadata": {
        "id": "9xqpO9igs_-5"
      }
    },
    {
      "cell_type": "code",
      "source": [
        "from sklearn.feature_extraction.text import TfidfVectorizer\n",
        "\n",
        "#criando o vetor TF-IDF\n",
        "tfidf_vectorizer = TfidfVectorizer(max_features=100)  #limitando para as 100 palavras\n",
        "corpus = [ticket['cleaned_title'] for ticket in cleaned_tickets]  #texto limpo dos títulos\n",
        "X_tfidf = tfidf_vectorizer.fit_transform(corpus)\n",
        "\n",
        "#exibindo a matriz TF-IDF para ver as palavras mais importantes\n",
        "import pandas as pd\n",
        "\n",
        "#transformando a matriz esparsa em um DataFrame para visualização\n",
        "df_tfidf = pd.DataFrame(X_tfidf.toarray(), columns=tfidf_vectorizer.get_feature_names_out())\n",
        "print(df_tfidf.head())\n"
      ],
      "metadata": {
        "id": "fhJk4-dAmg3H",
        "colab": {
          "base_uri": "https://localhost:8080/"
        },
        "outputId": "3bb573f5-eed8-42b1-bbd1-89b951efd2bb"
      },
      "execution_count": null,
      "outputs": [
        {
          "output_type": "stream",
          "name": "stdout",
          "text": [
            "   agregaão  algoritmo  anlise  antigas  análise       api  apresenta  atraso  \\\n",
            "0       0.0        0.0     0.0      0.0      0.0  0.409075   0.000000     0.0   \n",
            "1       0.0        0.0     0.0      0.0      0.0  0.313537   0.000000     0.0   \n",
            "2       0.0        0.0     0.0      0.0      0.0  0.350153   0.000000     0.0   \n",
            "3       0.0        0.0     0.0      0.0      0.0  0.326541   0.000000     0.0   \n",
            "4       0.0        0.0     0.0      0.0      0.0  0.332085   0.470163     0.0   \n",
            "\n",
            "   atualizam  atualizao  ...    servio  simulam   sistema  testis  \\\n",
            "0   0.000000   0.000000  ...  0.000000      0.0  0.000000     0.0   \n",
            "1   0.443902   0.000000  ...  0.443902      0.0  0.000000     0.0   \n",
            "2   0.000000   0.000000  ...  0.000000      0.0  0.000000     0.0   \n",
            "3   0.000000   0.462314  ...  0.000000      0.0  0.376651     0.0   \n",
            "4   0.000000   0.000000  ...  0.000000      0.0  0.000000     0.0   \n",
            "\n",
            "   transformaão  transformação   ui  usuários  vendas  volume  \n",
            "0           0.0            0.0  0.0  0.000000     0.0     0.0  \n",
            "1           0.0            0.0  0.0  0.000000     0.0     0.0  \n",
            "2           0.0            0.0  0.0  0.495743     0.0     0.0  \n",
            "3           0.0            0.0  0.0  0.000000     0.0     0.0  \n",
            "4           0.0            0.0  0.0  0.000000     0.0     0.0  \n",
            "\n",
            "[5 rows x 94 columns]\n"
          ]
        }
      ]
    },
    {
      "cell_type": "markdown",
      "source": [
        "O spaCy gera embeddings de palavras: representações vetoriais densas e contínuas de palavras. Ao contrário do TF-IDF, que cria uma matriz esparsa e baseada em frequência, os embeddings capturam relações semânticas entre as palavras (por exemplo, \"rei\" e \"rainha\" estarão em vetores próximos).\n",
        "\n",
        "Pipeline de NLP: O spaCy utiliza um pipeline de processamento de texto, onde diferentes componentes são aplicados em sequência para realizar tarefas específicas, como:\n",
        "\n",
        "- Tokenização: Dividir o texto em unidades menores chamadas tokens (palavras, pontuações, etc).\n",
        "- Lematização: Reduzir palavras ao seu radical ou forma base (por exemplo, \"correndo\" se torna \"correr\").\n",
        "- Etiquetagem de Partes do Discurso (POS): Identificar a função gramatical das palavras, como substantivos, verbos, adjetivos, etc.\n",
        "- Análise Sintática: Identificar as relações entre palavras em uma sentença (como sujeito e objeto).\n",
        "- Reconhecimento de Entidades Nomeadas (NER): Detectar entidades específicas no texto, como nomes de pessoas, locais, datas, etc.\n",
        "Vetorização e Embeddings: Converter palavras e frases em vetores de alta dimensão (embeddings), que representam o significado semântico.\n"
      ],
      "metadata": {
        "id": "q9L7yBSmubii"
      }
    },
    {
      "cell_type": "code",
      "source": [
        "!python -m spacy download pt_core_news_md"
      ],
      "metadata": {
        "colab": {
          "base_uri": "https://localhost:8080/"
        },
        "collapsed": true,
        "id": "PuDpLvcmtrBt",
        "outputId": "6db6c418-397a-4520-ee99-2668e5c331d7"
      },
      "execution_count": null,
      "outputs": [
        {
          "output_type": "stream",
          "name": "stdout",
          "text": [
            "Collecting pt-core-news-md==3.7.0\n",
            "  Downloading https://github.com/explosion/spacy-models/releases/download/pt_core_news_md-3.7.0/pt_core_news_md-3.7.0-py3-none-any.whl (42.4 MB)\n",
            "\u001b[2K     \u001b[90m━━━━━━━━━━━━━━━━━━━━━━━━━━━━━━━━━━━━━━━━\u001b[0m \u001b[32m42.4/42.4 MB\u001b[0m \u001b[31m9.2 MB/s\u001b[0m eta \u001b[36m0:00:00\u001b[0m\n",
            "\u001b[?25hRequirement already satisfied: spacy<3.8.0,>=3.7.0 in /usr/local/lib/python3.10/dist-packages (from pt-core-news-md==3.7.0) (3.7.5)\n",
            "Requirement already satisfied: spacy-legacy<3.1.0,>=3.0.11 in /usr/local/lib/python3.10/dist-packages (from spacy<3.8.0,>=3.7.0->pt-core-news-md==3.7.0) (3.0.12)\n",
            "Requirement already satisfied: spacy-loggers<2.0.0,>=1.0.0 in /usr/local/lib/python3.10/dist-packages (from spacy<3.8.0,>=3.7.0->pt-core-news-md==3.7.0) (1.0.5)\n",
            "Requirement already satisfied: murmurhash<1.1.0,>=0.28.0 in /usr/local/lib/python3.10/dist-packages (from spacy<3.8.0,>=3.7.0->pt-core-news-md==3.7.0) (1.0.10)\n",
            "Requirement already satisfied: cymem<2.1.0,>=2.0.2 in /usr/local/lib/python3.10/dist-packages (from spacy<3.8.0,>=3.7.0->pt-core-news-md==3.7.0) (2.0.8)\n",
            "Requirement already satisfied: preshed<3.1.0,>=3.0.2 in /usr/local/lib/python3.10/dist-packages (from spacy<3.8.0,>=3.7.0->pt-core-news-md==3.7.0) (3.0.9)\n",
            "Requirement already satisfied: thinc<8.3.0,>=8.2.2 in /usr/local/lib/python3.10/dist-packages (from spacy<3.8.0,>=3.7.0->pt-core-news-md==3.7.0) (8.2.5)\n",
            "Requirement already satisfied: wasabi<1.2.0,>=0.9.1 in /usr/local/lib/python3.10/dist-packages (from spacy<3.8.0,>=3.7.0->pt-core-news-md==3.7.0) (1.1.3)\n",
            "Requirement already satisfied: srsly<3.0.0,>=2.4.3 in /usr/local/lib/python3.10/dist-packages (from spacy<3.8.0,>=3.7.0->pt-core-news-md==3.7.0) (2.4.8)\n",
            "Requirement already satisfied: catalogue<2.1.0,>=2.0.6 in /usr/local/lib/python3.10/dist-packages (from spacy<3.8.0,>=3.7.0->pt-core-news-md==3.7.0) (2.0.10)\n",
            "Requirement already satisfied: weasel<0.5.0,>=0.1.0 in /usr/local/lib/python3.10/dist-packages (from spacy<3.8.0,>=3.7.0->pt-core-news-md==3.7.0) (0.4.1)\n",
            "Requirement already satisfied: typer<1.0.0,>=0.3.0 in /usr/local/lib/python3.10/dist-packages (from spacy<3.8.0,>=3.7.0->pt-core-news-md==3.7.0) (0.12.5)\n",
            "Requirement already satisfied: tqdm<5.0.0,>=4.38.0 in /usr/local/lib/python3.10/dist-packages (from spacy<3.8.0,>=3.7.0->pt-core-news-md==3.7.0) (4.66.6)\n",
            "Requirement already satisfied: requests<3.0.0,>=2.13.0 in /usr/local/lib/python3.10/dist-packages (from spacy<3.8.0,>=3.7.0->pt-core-news-md==3.7.0) (2.32.3)\n",
            "Requirement already satisfied: pydantic!=1.8,!=1.8.1,<3.0.0,>=1.7.4 in /usr/local/lib/python3.10/dist-packages (from spacy<3.8.0,>=3.7.0->pt-core-news-md==3.7.0) (2.9.2)\n",
            "Requirement already satisfied: jinja2 in /usr/local/lib/python3.10/dist-packages (from spacy<3.8.0,>=3.7.0->pt-core-news-md==3.7.0) (3.1.4)\n",
            "Requirement already satisfied: setuptools in /usr/local/lib/python3.10/dist-packages (from spacy<3.8.0,>=3.7.0->pt-core-news-md==3.7.0) (75.1.0)\n",
            "Requirement already satisfied: packaging>=20.0 in /usr/local/lib/python3.10/dist-packages (from spacy<3.8.0,>=3.7.0->pt-core-news-md==3.7.0) (24.1)\n",
            "Requirement already satisfied: langcodes<4.0.0,>=3.2.0 in /usr/local/lib/python3.10/dist-packages (from spacy<3.8.0,>=3.7.0->pt-core-news-md==3.7.0) (3.4.1)\n",
            "Requirement already satisfied: numpy>=1.19.0 in /usr/local/lib/python3.10/dist-packages (from spacy<3.8.0,>=3.7.0->pt-core-news-md==3.7.0) (1.26.4)\n",
            "Requirement already satisfied: language-data>=1.2 in /usr/local/lib/python3.10/dist-packages (from langcodes<4.0.0,>=3.2.0->spacy<3.8.0,>=3.7.0->pt-core-news-md==3.7.0) (1.2.0)\n",
            "Requirement already satisfied: annotated-types>=0.6.0 in /usr/local/lib/python3.10/dist-packages (from pydantic!=1.8,!=1.8.1,<3.0.0,>=1.7.4->spacy<3.8.0,>=3.7.0->pt-core-news-md==3.7.0) (0.7.0)\n",
            "Requirement already satisfied: pydantic-core==2.23.4 in /usr/local/lib/python3.10/dist-packages (from pydantic!=1.8,!=1.8.1,<3.0.0,>=1.7.4->spacy<3.8.0,>=3.7.0->pt-core-news-md==3.7.0) (2.23.4)\n",
            "Requirement already satisfied: typing-extensions>=4.6.1 in /usr/local/lib/python3.10/dist-packages (from pydantic!=1.8,!=1.8.1,<3.0.0,>=1.7.4->spacy<3.8.0,>=3.7.0->pt-core-news-md==3.7.0) (4.12.2)\n",
            "Requirement already satisfied: charset-normalizer<4,>=2 in /usr/local/lib/python3.10/dist-packages (from requests<3.0.0,>=2.13.0->spacy<3.8.0,>=3.7.0->pt-core-news-md==3.7.0) (3.4.0)\n",
            "Requirement already satisfied: idna<4,>=2.5 in /usr/local/lib/python3.10/dist-packages (from requests<3.0.0,>=2.13.0->spacy<3.8.0,>=3.7.0->pt-core-news-md==3.7.0) (3.10)\n",
            "Requirement already satisfied: urllib3<3,>=1.21.1 in /usr/local/lib/python3.10/dist-packages (from requests<3.0.0,>=2.13.0->spacy<3.8.0,>=3.7.0->pt-core-news-md==3.7.0) (2.2.3)\n",
            "Requirement already satisfied: certifi>=2017.4.17 in /usr/local/lib/python3.10/dist-packages (from requests<3.0.0,>=2.13.0->spacy<3.8.0,>=3.7.0->pt-core-news-md==3.7.0) (2024.8.30)\n",
            "Requirement already satisfied: blis<0.8.0,>=0.7.8 in /usr/local/lib/python3.10/dist-packages (from thinc<8.3.0,>=8.2.2->spacy<3.8.0,>=3.7.0->pt-core-news-md==3.7.0) (0.7.11)\n",
            "Requirement already satisfied: confection<1.0.0,>=0.0.1 in /usr/local/lib/python3.10/dist-packages (from thinc<8.3.0,>=8.2.2->spacy<3.8.0,>=3.7.0->pt-core-news-md==3.7.0) (0.1.5)\n",
            "Requirement already satisfied: click>=8.0.0 in /usr/local/lib/python3.10/dist-packages (from typer<1.0.0,>=0.3.0->spacy<3.8.0,>=3.7.0->pt-core-news-md==3.7.0) (8.1.7)\n",
            "Requirement already satisfied: shellingham>=1.3.0 in /usr/local/lib/python3.10/dist-packages (from typer<1.0.0,>=0.3.0->spacy<3.8.0,>=3.7.0->pt-core-news-md==3.7.0) (1.5.4)\n",
            "Requirement already satisfied: rich>=10.11.0 in /usr/local/lib/python3.10/dist-packages (from typer<1.0.0,>=0.3.0->spacy<3.8.0,>=3.7.0->pt-core-news-md==3.7.0) (13.9.3)\n",
            "Requirement already satisfied: cloudpathlib<1.0.0,>=0.7.0 in /usr/local/lib/python3.10/dist-packages (from weasel<0.5.0,>=0.1.0->spacy<3.8.0,>=3.7.0->pt-core-news-md==3.7.0) (0.20.0)\n",
            "Requirement already satisfied: smart-open<8.0.0,>=5.2.1 in /usr/local/lib/python3.10/dist-packages (from weasel<0.5.0,>=0.1.0->spacy<3.8.0,>=3.7.0->pt-core-news-md==3.7.0) (7.0.5)\n",
            "Requirement already satisfied: MarkupSafe>=2.0 in /usr/local/lib/python3.10/dist-packages (from jinja2->spacy<3.8.0,>=3.7.0->pt-core-news-md==3.7.0) (3.0.2)\n",
            "Requirement already satisfied: marisa-trie>=0.7.7 in /usr/local/lib/python3.10/dist-packages (from language-data>=1.2->langcodes<4.0.0,>=3.2.0->spacy<3.8.0,>=3.7.0->pt-core-news-md==3.7.0) (1.2.1)\n",
            "Requirement already satisfied: markdown-it-py>=2.2.0 in /usr/local/lib/python3.10/dist-packages (from rich>=10.11.0->typer<1.0.0,>=0.3.0->spacy<3.8.0,>=3.7.0->pt-core-news-md==3.7.0) (3.0.0)\n",
            "Requirement already satisfied: pygments<3.0.0,>=2.13.0 in /usr/local/lib/python3.10/dist-packages (from rich>=10.11.0->typer<1.0.0,>=0.3.0->spacy<3.8.0,>=3.7.0->pt-core-news-md==3.7.0) (2.18.0)\n",
            "Requirement already satisfied: wrapt in /usr/local/lib/python3.10/dist-packages (from smart-open<8.0.0,>=5.2.1->weasel<0.5.0,>=0.1.0->spacy<3.8.0,>=3.7.0->pt-core-news-md==3.7.0) (1.16.0)\n",
            "Requirement already satisfied: mdurl~=0.1 in /usr/local/lib/python3.10/dist-packages (from markdown-it-py>=2.2.0->rich>=10.11.0->typer<1.0.0,>=0.3.0->spacy<3.8.0,>=3.7.0->pt-core-news-md==3.7.0) (0.1.2)\n",
            "Installing collected packages: pt-core-news-md\n",
            "Successfully installed pt-core-news-md-3.7.0\n",
            "\u001b[38;5;2m✔ Download and installation successful\u001b[0m\n",
            "You can now load the package via spacy.load('pt_core_news_md')\n",
            "\u001b[38;5;3m⚠ Restart to reload dependencies\u001b[0m\n",
            "If you are in a Jupyter or Colab notebook, you may need to restart Python in\n",
            "order to load all the package's dependencies. You can do this by selecting the\n",
            "'Restart kernel' or 'Restart runtime' option.\n"
          ]
        }
      ]
    },
    {
      "cell_type": "code",
      "source": [
        "import spacy\n",
        "\n",
        "nlp = spacy.load('pt_core_news_md')\n",
        "\n",
        "def get_word_embeddings(text):\n",
        "    doc = nlp(text)  #processa o texto\n",
        "    return doc.vector  #retorna o vetor de embeddings\n",
        "\n",
        "embeddings = []\n",
        "for ticket in tickets:\n",
        "    title_embedding = get_word_embeddings(ticket['title'])\n",
        "    ticket['embedding'] = title_embedding\n",
        "    embeddings.append(ticket)\n",
        "\n",
        "for ticket in embeddings:\n",
        "    print(f\"Ticket ID {ticket['id']} - Embedding: {ticket['embedding'][:5]}...\")"
      ],
      "metadata": {
        "id": "Q4n_qxaSmjrx",
        "colab": {
          "base_uri": "https://localhost:8080/"
        },
        "outputId": "c192d9f2-1548-4f3d-fe82-7b39deb1cc75"
      },
      "execution_count": null,
      "outputs": [
        {
          "output_type": "stream",
          "name": "stdout",
          "text": [
            "Ticket ID 1 - Embedding: [-0.238507  -1.3063451 -1.2914621  0.659486  -1.525335 ]...\n",
            "Ticket ID 2 - Embedding: [ 0.5019315  -1.1460172  -1.2781906   0.37129423 -1.1658036 ]...\n",
            "Ticket ID 3 - Embedding: [ 1.2231857   0.27766663 -1.5127866   0.60793006 -2.9518065 ]...\n",
            "Ticket ID 4 - Embedding: [ 0.5467586  -0.38998154 -1.5259168   0.2579886  -1.7039521 ]...\n",
            "Ticket ID 5 - Embedding: [ 0.60984457 -0.7896027  -1.1706637  -0.43876734 -2.3037608 ]...\n",
            "Ticket ID 6 - Embedding: [ 0.10348919 -0.11731263 -0.8810864   1.1220675  -0.9265318 ]...\n",
            "Ticket ID 7 - Embedding: [ 0.12774217 -0.55341506 -0.81855327  0.01269825 -1.3428559 ]...\n",
            "Ticket ID 8 - Embedding: [-0.26024002 -2.125796   -0.84950364 -0.19098598 -0.4175865 ]...\n",
            "Ticket ID 9 - Embedding: [ 0.86273706 -0.03223606 -1.122305    0.25027102 -1.399455  ]...\n",
            "Ticket ID 10 - Embedding: [-0.03115839 -0.1091792  -0.9961073   1.1880132  -1.2321651 ]...\n",
            "Ticket ID 11 - Embedding: [ 0.05467301 -0.57834995 -1.1508011   1.1384969  -0.58342993]...\n",
            "Ticket ID 12 - Embedding: [ 1.0996522 -1.6289688 -0.8789212  0.9342011 -1.385133 ]...\n",
            "Ticket ID 13 - Embedding: [ 0.11598127 -1.2419723  -1.4045099   1.1550015  -0.74091506]...\n",
            "Ticket ID 14 - Embedding: [ 1.0626522  1.0597613 -1.1640855  1.0167147 -2.549493 ]...\n",
            "Ticket ID 15 - Embedding: [ 1.2398529  -0.18983474 -1.3373048   0.6286237  -1.7793658 ]...\n",
            "Ticket ID 16 - Embedding: [-0.11787178  1.3180753  -0.98024905  2.200965   -2.807273  ]...\n",
            "Ticket ID 17 - Embedding: [ 0.23761582  0.31267247 -1.2603933   1.6899343  -1.9803934 ]...\n",
            "Ticket ID 18 - Embedding: [ 1.5317959  0.3587216 -1.4655958  0.377839  -2.206784 ]...\n",
            "Ticket ID 19 - Embedding: [ 0.11567446  0.3835343  -1.1662122   1.2686368  -2.4749458 ]...\n",
            "Ticket ID 20 - Embedding: [ 0.26278928  0.97119784 -1.0671589   1.1959898  -2.059663  ]...\n",
            "Ticket ID 21 - Embedding: [ 0.6655411   0.14232221 -0.1101298   0.85918677 -2.4887652 ]...\n",
            "Ticket ID 22 - Embedding: [ 1.11088   -0.1952351 -1.435627   2.4619758 -2.1706078]...\n",
            "Ticket ID 23 - Embedding: [ 0.3644145   0.13479559 -1.3337935  -0.01923813 -2.8773305 ]...\n",
            "Ticket ID 24 - Embedding: [ 1.0495161  -0.710307   -0.75185406  1.341721   -2.0849872 ]...\n",
            "Ticket ID 25 - Embedding: [ 0.32718223  0.16141997 -0.8845378   2.4166043  -1.8427815 ]...\n",
            "Ticket ID 26 - Embedding: [-0.44549248  0.9773436  -1.375131    1.8890119  -2.11909   ]...\n",
            "Ticket ID 27 - Embedding: [ 0.7964466  -0.37258893 -1.2513907   0.10169541 -1.9696898 ]...\n",
            "Ticket ID 28 - Embedding: [-4.3488804e-01 -7.7963179e-01  2.9622456e-02 -7.5828034e-04\n",
            " -1.9253383e+00]...\n",
            "Ticket ID 29 - Embedding: [ 0.3113759   0.67650795 -0.97515947  1.3036833  -2.1253865 ]...\n",
            "Ticket ID 30 - Embedding: [-0.04797645 -0.5110143  -1.0071896   1.639845   -1.5612546 ]...\n"
          ]
        }
      ]
    },
    {
      "cell_type": "markdown",
      "source": [
        "Passos para Treinamento e Teste com TF-IDF:\n",
        "- Dividir os dados em treino e teste.\n",
        "- Treinar o modelo Random Forest.\n",
        "- Avaliar a acurácia do modelo."
      ],
      "metadata": {
        "id": "bAjj1SY-wqPd"
      }
    },
    {
      "cell_type": "code",
      "source": [
        "from sklearn.ensemble import RandomForestClassifier\n",
        "from sklearn.model_selection import train_test_split\n",
        "from sklearn.metrics import accuracy_score\n",
        "\n",
        "for ticket in tickets:\n",
        "    ticket['label'] = 1 if \"resolvido\" in ticket['title'].lower() else 0\n",
        "\n",
        "labels = [ticket['label'] for ticket in tickets]\n",
        "\n",
        "X_train, X_test, y_train, y_test = train_test_split(X_tfidf, labels, test_size=0.2, random_state=42)\n",
        "\n",
        "model_rf = RandomForestClassifier(n_estimators=100, random_state=42)\n",
        "model_rf.fit(X_train, y_train)\n",
        "\n",
        "y_pred = model_rf.predict(X_test)\n",
        "\n",
        "accuracy = accuracy_score(y_test, y_pred)\n",
        "print(f\"Acurácia do modelo (Random Forest + TF-IDF): {accuracy:.2f}\")\n"
      ],
      "metadata": {
        "id": "G9xNBkjwwpqt",
        "colab": {
          "base_uri": "https://localhost:8080/"
        },
        "outputId": "473e3dec-883d-41db-c5e5-9dfdaa5da5f0"
      },
      "execution_count": null,
      "outputs": [
        {
          "output_type": "stream",
          "name": "stdout",
          "text": [
            "Acurácia do modelo (Random Forest + TF-IDF): 1.00\n"
          ]
        }
      ]
    },
    {
      "cell_type": "markdown",
      "source": [
        "Função para gerar o prompt das classificações dos tickets"
      ],
      "metadata": {
        "id": "6L4hnFjx0wEa"
      }
    },
    {
      "cell_type": "code",
      "source": [
        "def generate_prompt_from_api(ticket):\n",
        "    root_cause = ticket['root_cause']\n",
        "    functionality = ticket['functionality']\n",
        "    title = ticket['title']\n",
        "\n",
        "    prompt = f\"**Causa Raiz:** {root_cause}\\n**Funcionalidade Afetada:** {functionality}\\n\\n**Descrição do Ticket:** {title}\"\n",
        "    return prompt\n",
        "\n",
        "def fetch_and_generate_prompts():\n",
        "    response = requests.get(url)\n",
        "\n",
        "    if response.status_code == 200:\n",
        "        tickets = response.json()\n",
        "\n",
        "        for ticket in tickets:\n",
        "            prompt = generate_prompt_from_api(ticket)\n",
        "            print(f\"Prompt para o Ticket ID {ticket['id']}:\\n{prompt}\\n{'-'*50}\")\n",
        "    else:\n",
        "        print(f\"Falha ao obter dados da API. Status: {response.status_code}\")\n",
        "\n",
        "fetch_and_generate_prompts()\n"
      ],
      "metadata": {
        "id": "DI9steOAxvBa",
        "colab": {
          "base_uri": "https://localhost:8080/"
        },
        "outputId": "21a1ba21-2a7a-4772-927b-1419a121216b"
      },
      "execution_count": null,
      "outputs": [
        {
          "output_type": "stream",
          "name": "stdout",
          "text": [
            "Prompt para o Ticket ID 1:\n",
            "**Causa Raiz:** API\n",
            "**Funcionalidade Afetada:** ETL\n",
            "\n",
            "**Descrição do Ticket:** Falha na integração com API de dados externos no ETL\n",
            "--------------------------------------------------\n",
            "Prompt para o Ticket ID 2:\n",
            "**Causa Raiz:** API\n",
            "**Funcionalidade Afetada:** IA - Previsão de Demanda\n",
            "\n",
            "**Descrição do Ticket:** Dados não atualizam devido a falha na API do serviço de previsão de demanda\n",
            "--------------------------------------------------\n",
            "Prompt para o Ticket ID 3:\n",
            "**Causa Raiz:** API\n",
            "**Funcionalidade Afetada:** Dashboard - Autenticação de Usuários\n",
            "\n",
            "**Descrição do Ticket:** Problema de integração com API de autenticação de usuários\n",
            "--------------------------------------------------\n",
            "Prompt para o Ticket ID 4:\n",
            "**Causa Raiz:** API\n",
            "**Funcionalidade Afetada:** ETL - Logística\n",
            "\n",
            "**Descrição do Ticket:** Falha na atualização de dados por chamada de API para o sistema de logística\n",
            "--------------------------------------------------\n",
            "Prompt para o Ticket ID 5:\n",
            "**Causa Raiz:** API\n",
            "**Funcionalidade Afetada:** ETL - Dados Financeiros\n",
            "\n",
            "**Descrição do Ticket:** Integração com a API de dados financeiros apresenta erro de conexão\n",
            "--------------------------------------------------\n",
            "Prompt para o Ticket ID 6:\n",
            "**Causa Raiz:** Código legado\n",
            "**Funcionalidade Afetada:** ETL\n",
            "\n",
            "**Descrição do Ticket:** Lógica de transformação de dados no ETL falha devido ao código legado\n",
            "--------------------------------------------------\n",
            "Prompt para o Ticket ID 7:\n",
            "**Causa Raiz:** Código legado\n",
            "**Funcionalidade Afetada:** IA\n",
            "\n",
            "**Descrição do Ticket:** Código legado no sistema de IA causa falha na modelagem de dados\n",
            "--------------------------------------------------\n",
            "Prompt para o Ticket ID 8:\n",
            "**Causa Raiz:** Código legado\n",
            "**Funcionalidade Afetada:** Dashboard\n",
            "\n",
            "**Descrição do Ticket:** Dashboard não está exibindo dados corretamente devido a código legado\n",
            "--------------------------------------------------\n",
            "Prompt para o Ticket ID 9:\n",
            "**Causa Raiz:** Código legado\n",
            "**Funcionalidade Afetada:** ETL\n",
            "\n",
            "**Descrição do Ticket:** Sistema de ETL falha devido a dependências antigas de pacotes\n",
            "--------------------------------------------------\n",
            "Prompt para o Ticket ID 10:\n",
            "**Causa Raiz:** Código legado\n",
            "**Funcionalidade Afetada:** IA\n",
            "\n",
            "**Descrição do Ticket:** Falha no modelo de IA por problemas com código legado de predição\n",
            "--------------------------------------------------\n",
            "Prompt para o Ticket ID 11:\n",
            "**Causa Raiz:** Problemas de desempenho\n",
            "**Funcionalidade Afetada:** ETL\n",
            "\n",
            "**Descrição do Ticket:** Processamento de dados lento no processo ETL devido a gargalos\n",
            "--------------------------------------------------\n",
            "Prompt para o Ticket ID 12:\n",
            "**Causa Raiz:** Problemas de desempenho\n",
            "**Funcionalidade Afetada:** Dashboard\n",
            "\n",
            "**Descrição do Ticket:** Dashboard com lentidão ao carregar grandes volumes de dados\n",
            "--------------------------------------------------\n",
            "Prompt para o Ticket ID 13:\n",
            "**Causa Raiz:** Problemas de desempenho\n",
            "**Funcionalidade Afetada:** IA - Previsão de Demanda\n",
            "\n",
            "**Descrição do Ticket:** Atraso na previsão de demanda devido a lentidão no modelo de IA\n",
            "--------------------------------------------------\n",
            "Prompt para o Ticket ID 14:\n",
            "**Causa Raiz:** Problemas de desempenho\n",
            "**Funcionalidade Afetada:** ETL\n",
            "\n",
            "**Descrição do Ticket:** Problemas de desempenho no processo de integração de dados\n",
            "--------------------------------------------------\n",
            "Prompt para o Ticket ID 15:\n",
            "**Causa Raiz:** Problemas de desempenho\n",
            "**Funcionalidade Afetada:** Dashboard\n",
            "\n",
            "**Descrição do Ticket:** Dashboard de análise de vendas lento ao carregar dados históricos\n",
            "--------------------------------------------------\n",
            "Prompt para o Ticket ID 16:\n",
            "**Causa Raiz:** Erro de lógica\n",
            "**Funcionalidade Afetada:** ETL\n",
            "\n",
            "**Descrição do Ticket:** Erro de lógica no algoritmo de agregação de dados no ETL\n",
            "--------------------------------------------------\n",
            "Prompt para o Ticket ID 17:\n",
            "**Causa Raiz:** Erro de lógica\n",
            "**Funcionalidade Afetada:** IA - Previsão de Demanda\n",
            "\n",
            "**Descrição do Ticket:** Falha no algoritmo de previsão de demanda devido a erro de lógica\n",
            "--------------------------------------------------\n",
            "Prompt para o Ticket ID 18:\n",
            "**Causa Raiz:** Erro de lógica\n",
            "**Funcionalidade Afetada:** Dashboard\n",
            "\n",
            "**Descrição do Ticket:** Erro de lógica na filtragem de dados para o dashboard de vendas\n",
            "--------------------------------------------------\n",
            "Prompt para o Ticket ID 19:\n",
            "**Causa Raiz:** Erro de lógica\n",
            "**Funcionalidade Afetada:** ETL\n",
            "\n",
            "**Descrição do Ticket:** Lógica de transformação de dados no ETL está incorreta\n",
            "--------------------------------------------------\n",
            "Prompt para o Ticket ID 20:\n",
            "**Causa Raiz:** Erro de lógica\n",
            "**Funcionalidade Afetada:** IA\n",
            "\n",
            "**Descrição do Ticket:** Erro de lógica no cálculo da métrica de performance no modelo de IA\n",
            "--------------------------------------------------\n",
            "Prompt para o Ticket ID 21:\n",
            "**Causa Raiz:** Erro de UI\n",
            "**Funcionalidade Afetada:** Dashboard - Vendas\n",
            "\n",
            "**Descrição do Ticket:** Erro na exibição de gráficos no Dashboard de Vendas\n",
            "--------------------------------------------------\n",
            "Prompt para o Ticket ID 22:\n",
            "**Causa Raiz:** Erro de UI\n",
            "**Funcionalidade Afetada:** Dashboard - Performance\n",
            "\n",
            "**Descrição do Ticket:** Botão de filtro não está funcionando no Dashboard de Performance\n",
            "--------------------------------------------------\n",
            "Prompt para o Ticket ID 23:\n",
            "**Causa Raiz:** Erro de UI\n",
            "**Funcionalidade Afetada:** Dashboard - Análise de Dados\n",
            "\n",
            "**Descrição do Ticket:** Inconsistência na exibição de números no Dashboard de Análise de Dados\n",
            "--------------------------------------------------\n",
            "Prompt para o Ticket ID 24:\n",
            "**Causa Raiz:** Erro de UI\n",
            "**Funcionalidade Afetada:** Dashboard - Login\n",
            "\n",
            "**Descrição do Ticket:** Formulário de login não está exibindo mensagens de erro corretamente\n",
            "--------------------------------------------------\n",
            "Prompt para o Ticket ID 25:\n",
            "**Causa Raiz:** Erro de UI\n",
            "**Funcionalidade Afetada:** Dashboard - KPIs\n",
            "\n",
            "**Descrição do Ticket:** Layout quebrado no Dashboard de KPIs em dispositivos móveis\n",
            "--------------------------------------------------\n",
            "Prompt para o Ticket ID 26:\n",
            "**Causa Raiz:** Falha em testes\n",
            "**Funcionalidade Afetada:** IA - Previsão de Demanda\n",
            "\n",
            "**Descrição do Ticket:** Erro de cálculo não detectado em testes no modelo de IA\n",
            "--------------------------------------------------\n",
            "Prompt para o Ticket ID 27:\n",
            "**Causa Raiz:** Falha em testes\n",
            "**Funcionalidade Afetada:** Dashboard - Vendas\n",
            "\n",
            "**Descrição do Ticket:** Dashboard de vendas com falhas não detectadas em testes de UI\n",
            "--------------------------------------------------\n",
            "Prompt para o Ticket ID 28:\n",
            "**Causa Raiz:** Falha em testes\n",
            "**Funcionalidade Afetada:** ETL - Importação de Dados\n",
            "\n",
            "**Descrição do Ticket:** Erro na importação de dados no ETL não identificado durante os testes\n",
            "--------------------------------------------------\n",
            "Prompt para o Ticket ID 29:\n",
            "**Causa Raiz:** Falha em testes\n",
            "**Funcionalidade Afetada:** ETL - Transformação de Dados\n",
            "\n",
            "**Descrição do Ticket:** Testes não cobriram cenário de erro no processo de transformação de dados\n",
            "--------------------------------------------------\n",
            "Prompt para o Ticket ID 30:\n",
            "**Causa Raiz:** Falha em testes\n",
            "**Funcionalidade Afetada:** Dashboard - KPIs\n",
            "\n",
            "**Descrição do Ticket:** Testes de carga não simulam volume de dados real, causando lentidão no dashboard\n",
            "--------------------------------------------------\n"
          ]
        }
      ]
    }
  ]
}